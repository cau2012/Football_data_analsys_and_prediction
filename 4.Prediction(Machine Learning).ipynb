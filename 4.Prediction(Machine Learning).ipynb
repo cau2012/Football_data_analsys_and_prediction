{
 "cells": [
  {
   "cell_type": "code",
   "execution_count": 1,
   "metadata": {
    "collapsed": true
   },
   "outputs": [],
   "source": [
    "import seaborn as sns\n",
    "from pandas.tools.plotting import scatter_matrix\n",
    "\n",
    "sns.set(style=\"ticks\")\n",
    "sns.set_style('whitegrid')\n",
    "sns.set_color_codes()"
   ]
  },
  {
   "cell_type": "code",
   "execution_count": 2,
   "metadata": {
    "collapsed": false
   },
   "outputs": [],
   "source": [
    "%matplotlib inline\n",
    "#from preamble import *\n",
    "import numpy as np\n",
    "import math\n",
    "import pandas as pd\n",
    "import numpy as np\n",
    "from collections import Counter\n",
    "import pickle\n",
    "from tqdm import tqdm_notebook\n",
    "\n",
    "import matplotlib\n",
    "from matplotlib import font_manager, rc\n",
    "font_name = font_manager.FontProperties(fname=\"c:/Windows/Fonts/malgun.ttf\").get_name()\n",
    "rc('font', family=font_name)\n",
    "import matplotlib.pyplot as plt"
   ]
  },
  {
   "cell_type": "code",
   "execution_count": 3,
   "metadata": {
    "collapsed": true
   },
   "outputs": [],
   "source": [
    "#with open('data/pickle/SMPM.pkl', 'rb') as f:\n",
    "    #SMPM_proba = pickle.load(f)classification_report\n",
    "#SMPM_proba = pd.DataFrame(SMPM_proba, columns =['Wproba','Dproba','Lproba'])\n",
    "\n",
    "fname = 'data/prediction_data.csv'\n",
    "data = pd.read_csv(fname)\n",
    "#data = pd.concat([data, SMPM_proba], axis=1)\n",
    "#data = data[(data['Season'] < 1819) & ( data['League'] != 'BUNDES')]\n",
    "data = data[(data['Season'] < 1819)]"
   ]
  },
  {
   "cell_type": "code",
   "execution_count": 4,
   "metadata": {
    "collapsed": true
   },
   "outputs": [],
   "source": [
    "def transformResult(row):\n",
    "    if(row['Result'] == 'H'):\n",
    "        return 0\n",
    "    elif(row['Result'] == 'A'):\n",
    "        return 2\n",
    "    else:\n",
    "        return 1"
   ]
  },
  {
   "cell_type": "markdown",
   "metadata": {
    "collapsed": false
   },
   "source": [
    "data[\"Result\"] = data.apply(lambda row: transformResult(row),axis=1)\n",
    "\n",
    "X_train = data[data['Season'] < 1718].reset_index(drop=True)\n",
    "X_test = data[data['Season'] == 1718].reset_index(drop=True)\n",
    "#X_train = data[data['Season'] < 1617].reset_index(drop=True)\n",
    "#X_test = data[data['Season'] >= 1617].reset_index(drop=True)\n",
    "\n",
    "Y_train = X_train['Result']\n",
    "Y_test = X_test['Result']\n",
    "X_train = X_train.iloc[:, 9:]\n",
    "X_test = X_test.iloc[:, 9:]"
   ]
  },
  {
   "cell_type": "markdown",
   "metadata": {
    "collapsed": false
   },
   "source": [
    "train_proba, test_proba = X_train.iloc[:, -3:].values, X_test.iloc[:, -3:].values\n",
    "X_train, X_test = X_train.iloc[:, :-3], X_test.iloc[:, :-3]"
   ]
  },
  {
   "cell_type": "code",
   "execution_count": 5,
   "metadata": {
    "collapsed": false
   },
   "outputs": [],
   "source": [
    "data[\"Result\"] = data.apply(lambda row: transformResult(row),axis=1)\n",
    "\n",
    "X_train = data[data['Season'] < 1718].reset_index(drop=True)\n",
    "X_test = data[(data['Season'] == 1718) & (data['League'] != 'BUNDES')].reset_index(drop=True)\n",
    "X_test_LALIGA = data[(data['Season'] == 1718) & (data['League'] == 'LALIGA')].reset_index(drop=True)\n",
    "X_test_EPL = data[(data['Season'] == 1718) & (data['League'] == 'EPL')].reset_index(drop=True)\n",
    "X_test_SERIE = data[(data['Season'] == 1718) & (data['League'] == 'SERIE')].reset_index(drop=True)\n",
    "X_test_BUNDES = data[(data['Season'] == 1718) & (data['League'] == 'BUNDES')].reset_index(drop=True)\n",
    "\n",
    "Y_train = X_train['Result']\n",
    "Y_test = X_test['Result']\n",
    "Y_test_LALIGA = X_test_LALIGA['Result']\n",
    "Y_test_EPL = X_test_EPL['Result']\n",
    "Y_test_SERIE = X_test_SERIE['Result']\n",
    "Y_test_BUNDES = X_test_BUNDES['Result']\n",
    "X_train = X_train.iloc[:, 9:]\n",
    "X_test = X_test.iloc[:, 9:]\n",
    "X_test_LALIGA = X_test_LALIGA.iloc[:, 9:]\n",
    "X_test_EPL = X_test_EPL.iloc[:, 9:]\n",
    "X_test_SERIE = X_test_SERIE.iloc[:, 9:]\n",
    "X_test_BUNDES = X_test_BUNDES.iloc[:, 9:]"
   ]
  },
  {
   "cell_type": "code",
   "execution_count": 6,
   "metadata": {
    "collapsed": false
   },
   "outputs": [],
   "source": [
    "#from sklearn.preprocessing import MinMaxScaler\n",
    "\n",
    "#min_max_scaler = MinMaxScaler()\n",
    "#X_train = min_max_scaler.fit_transform(X_train)\n",
    "#X_test = min_max_scaler.fit_transform(X_test)"
   ]
  },
  {
   "cell_type": "code",
   "execution_count": 7,
   "metadata": {
    "collapsed": true
   },
   "outputs": [],
   "source": [
    "#from sklearn import preprocessing\n",
    "#X_train = preprocessing.normalize(X_train, norm='l2')\n",
    "#X_test_LALIGA = preprocessing.normalize(X_test_LALIGA, norm='l2')\n",
    "#X_test_EPL = preprocessing.normalize(X_test_EPL, norm='l2')\n",
    "#X_test_SERIE = preprocessing.normalize(X_test_SERIE, norm='l2')\n",
    "#X_test_BUNDES = preprocessing.normalize(X_test_BUNDES, norm='l2')\n",
    "#X_test = preprocessing.normalize(X_test, norm='l2')"
   ]
  },
  {
   "cell_type": "code",
   "execution_count": 8,
   "metadata": {
    "collapsed": false
   },
   "outputs": [
    {
     "name": "stderr",
     "output_type": "stream",
     "text": [
      "C:\\Users\\dlfdus\\Anaconda3\\lib\\site-packages\\sklearn\\utils\\deprecation.py:77: DeprecationWarning: Function _ratio_float is deprecated; Use a float for 'ratio' is deprecated from version 0.2. The support will be removed in 0.4. Use a dict, str, or a callable instead.\n",
      "  warnings.warn(msg, category=DeprecationWarning)\n"
     ]
    },
    {
     "name": "stdout",
     "output_type": "stream",
     "text": [
      "Number of train data 10111 -> 14093\n"
     ]
    }
   ],
   "source": [
    "from imblearn.over_sampling import SMOTE\n",
    "X_train_, Y_train_ = SMOTE(kind='borderline2', k_neighbors=20, ratio=1).fit_sample(X_train, Y_train)\n",
    "print('Number of train data {} -> {}'.format(len(X_train), len(X_train_)))\n",
    "X_train, Y_train = X_train_, Y_train_\n",
    "X_test = np.array(X_test)\n",
    "X_test_LALIGA = np.array(X_test_LALIGA)\n",
    "X_test_EPL = np.array(X_test_EPL)\n",
    "X_test_SERIE = np.array(X_test_SERIE)\n",
    "X_test_BUNDES = np.array(X_test_BUNDES)\n",
    "\n",
    "Y_test = np.array(Y_test)\n",
    "Y_test_LALIGA = np.array(Y_test_LALIGA)\n",
    "Y_test_EPL = np.array(Y_test_EPL)\n",
    "Y_test_EPL = np.array(Y_test_EPL)\n",
    "Y_test_EPL = np.array(Y_test_EPL)"
   ]
  },
  {
   "cell_type": "code",
   "execution_count": 9,
   "metadata": {
    "collapsed": false
   },
   "outputs": [
    {
     "data": {
      "text/plain": [
       "Counter({0: 4698, 1: 4697, 2: 4698})"
      ]
     },
     "execution_count": 9,
     "metadata": {},
     "output_type": "execute_result"
    }
   ],
   "source": [
    "from collections import Counter\n",
    "Counter(Y_train)"
   ]
  },
  {
   "cell_type": "code",
   "execution_count": 10,
   "metadata": {
    "collapsed": false
   },
   "outputs": [],
   "source": [
    "def adding_data(X_train, Y_train, ratio=0.25, WDL=1):\n",
    "    import random\n",
    "\n",
    "    dataindex = [idx for idx, i in enumerate(Y_train) if i ==WDL]\n",
    "    random.shuffle(dataindex)\n",
    "    \n",
    "    noda = int(len(dataindex) * ratio)\n",
    "    dataindex = dataindex[:noda]\n",
    "    \n",
    "    extraY = [WDL for i in range(noda)]\n",
    "    extraY = np.array(extraY)\n",
    "    \n",
    "    for idx, i in enumerate(dataindex):\n",
    "        if idx == 0:\n",
    "            holder = X_train[i]\n",
    "        else:\n",
    "            holder = np.vstack([holder, X_train[i]])\n",
    "    X_train = np.vstack([X_train, holder])\n",
    "    Y_train = np.hstack([Y_train, extraY])\n",
    "    \n",
    "    return X_train, Y_train"
   ]
  },
  {
   "cell_type": "code",
   "execution_count": 11,
   "metadata": {
    "collapsed": false
   },
   "outputs": [],
   "source": [
    "#X_train, Y_train = adding_data(X_train, Y_train, ratio=0.3, WDL=1)"
   ]
  },
  {
   "cell_type": "code",
   "execution_count": 12,
   "metadata": {
    "collapsed": true
   },
   "outputs": [],
   "source": [
    "#X_train, Y_train = adding_data(X_train, Y_train, ratio=0.1, WDL=2)"
   ]
  },
  {
   "cell_type": "code",
   "execution_count": 13,
   "metadata": {
    "collapsed": false
   },
   "outputs": [
    {
     "data": {
      "text/plain": [
       "Counter({0: 4698, 1: 4697, 2: 4698})"
      ]
     },
     "execution_count": 13,
     "metadata": {},
     "output_type": "execute_result"
    }
   ],
   "source": [
    "Counter(Y_train)"
   ]
  },
  {
   "cell_type": "code",
   "execution_count": 14,
   "metadata": {
    "collapsed": true
   },
   "outputs": [],
   "source": [
    "from sklearn.tree import DecisionTreeClassifier\n",
    "from sklearn.naive_bayes import MultinomialNB\n",
    "from xgboost import XGBClassifier\n",
    "from sklearn.metrics import accuracy_score\n",
    "from sklearn.model_selection import cross_val_score\n",
    "from sklearn.linear_model import LogisticRegression\n",
    "from sklearn.ensemble import RandomForestClassifier\n",
    "from sklearn.neighbors import KNeighborsClassifier\n",
    "from sklearn.ensemble import voting_classifier\n",
    "from sklearn.svm import LinearSVC\n",
    "from sklearn.model_selection import KFold\n",
    "from sklearn.metrics import classification_report\n",
    "from sklearn.preprocessing import label_binarize\n",
    "from sklearn.metrics import confusion_matrix"
   ]
  },
  {
   "cell_type": "code",
   "execution_count": 14,
   "metadata": {
    "collapsed": true
   },
   "outputs": [],
   "source": [
    "ps = False"
   ]
  },
  {
   "cell_type": "code",
   "execution_count": null,
   "metadata": {
    "collapsed": true
   },
   "outputs": [],
   "source": [
    "if ps == True:\n",
    "    #KNN\n",
    "    plot_scores_knn = []\n",
    "    for b in range(1,50):\n",
    "        clf_knn = KNeighborsClassifier(n_neighbors=b)\n",
    "        clf_knn.fit(X_train,Y_train)\n",
    "        scores = accuracy_score(Y_test,clf_knn.predict(X_test))\n",
    "        plot_scores_knn.append(scores)\n",
    "\n",
    "    #XGBClassifier\n",
    "    plot_scores_XGB = []\n",
    "    for i in range(1,100):\n",
    "        clf_XGB = XGBClassifier(n_estimators=i,max_depth=100)\n",
    "        clf_XGB.fit(X_train, Y_train)\n",
    "        scores = accuracy_score(Y_test,clf_XGB.predict(X_test))\n",
    "        plot_scores_XGB.append(scores)\n",
    "\n",
    "    #Logistic Regression\n",
    "    plot_scores_logreg= []\n",
    "    cs = [0.01,0.02,0.1,0.5,1,3,4,5,10]\n",
    "    for c in cs:\n",
    "        clf_logreg = LogisticRegression(C=c,solver='lbfgs',multi_class='ovr')\n",
    "        clf_logreg.fit(X_train, Y_train)\n",
    "        scores = accuracy_score(Y_test,clf_logreg.predict(X_test))\n",
    "        plot_scores_logreg.append(scores)"
   ]
  },
  {
   "cell_type": "code",
   "execution_count": 130,
   "metadata": {
    "collapsed": false
   },
   "outputs": [
    {
     "data": {
      "image/png": "[encoded data removed]",
      "text/plain": [
       "<Figure size 1152x504 with 3 Axes>"
      ]
     },
     "metadata": {},
     "output_type": "display_data"
    }
   ],
   "source": [
    "if ps == True:\n",
    "    fig = plt.figure(figsize = (16,7))\n",
    "    # plt.style.use('ggplot')\n",
    "\n",
    "    ax1 = fig.add_subplot(1,3,1)\n",
    "    ax1.plot(range(1,50),plot_scores_knn);\n",
    "    ax1.set_title(\"KNN - Accuracy vs N\")\n",
    "    ax1.set_xticks(range(1,50,5));\n",
    "\n",
    "    ax2 = fig.add_subplot(1,3,2)\n",
    "    ax2.plot(range(1,100),plot_scores_XGB);\n",
    "    ax2.set_xticks(range(1,100,6));\n",
    "    ax2.set_title(\"XGB - Accuracy vs n_estimators\")\n",
    "\n",
    "    ax3 = fig.add_subplot(1,3,3)\n",
    "    ax3.plot(range(1,10),plot_scores_logreg);\n",
    "    ax3.set_xticks(range(1,10));\n",
    "    ax3.set_title(\"Logistic Regression - Accuracy vs C\")\n",
    "\n",
    "    fig.tight_layout()"
   ]
  },
  {
   "cell_type": "code",
   "execution_count": 353,
   "metadata": {
    "collapsed": false
   },
   "outputs": [],
   "source": [
    "#X_train = X_train[['odds_l', 'odds_d', 'odds_w']]\n",
    "#X_test = X_test[['odds_l', 'odds_d', 'odds_w']]"
   ]
  },
  {
   "cell_type": "code",
   "execution_count": 15,
   "metadata": {
    "collapsed": true
   },
   "outputs": [],
   "source": [
    "def prediction(model, X_train, Y_train, X_test, Y_test):\n",
    "    model.fit(X_train, Y_train)\n",
    "    kfold = KFold(n_splits=10, shuffle=True, random_state = 0)\n",
    "\n",
    "    scores = cross_val_score(model, X_test, Y_test, cv= kfold)\n",
    "    print(\"Training accuracy: {:.5f}\".format(model.score(X_train, Y_train)))\n",
    "    print(\"Test accuracy: {:.5f}\".format(model.score(X_test, Y_test)))\n",
    "    print(\"Cross-validation mean score : {:.5f}\".format(scores.mean()))\n",
    "    print(\"Cross-validation scores : {}\".format(scores))\n",
    "\n",
    "\n",
    "    predict = model.predict(X_test)\n",
    "    print(classification_report(predict, Y_test), '\\n')\n",
    "\n",
    "    cm = pd.DataFrame(confusion_matrix(predict, Y_test), columns=['H','D','A'], index=['H','D','A'])\n",
    "    sns.heatmap(cm, annot=True, fmt=\"d\")"
   ]
  },
  {
   "cell_type": "code",
   "execution_count": 16,
   "metadata": {
    "collapsed": false
   },
   "outputs": [],
   "source": [
    "LogReg = LogisticRegression(C=3,solver='lbfgs',multi_class='ovr')\n",
    "KNN = KNeighborsClassifier(n_neighbors=48)\n",
    "LSVC = LinearSVC()\n",
    "RF = RandomForestClassifier()\n",
    "MultiNB = MultinomialNB()\n",
    "\"\"\"\n",
    "xgb = XGBClassifier(base_score=0.5, booster='gbtree', colsample_bylevel=1,\n",
    "       colsample_bytree=1, eval_metric='merror', gamma=0.5,\n",
    "       learning_rate=0.01, max_delta_step=1, max_depth=6,\n",
    "       min_child_weight=0.1, missing=None, n_estimators=100, n_jobs=1,\n",
    "       nthread=20, objective='multi:softprob', random_state=0, reg_alpha=0,\n",
    "       reg_lambda=1, scale_pos_weight=1, seed=None, silent=True,\n",
    "       subsample=1)\"\"\"\n",
    "xgb = XGBClassifier(max_depth=6, nthread=20, objective='multi:softprob', learning_rate=0.01, gamma=15, colsample_bytree=0.8, \n",
    "                scale_pos_weight=1, max_delta_step=1, subsample=1, eval_metric='merror', min_child_weight=0.1)\n",
    "\n",
    "models = [LogReg, KNN, LSVC, RF, MultiNB, xgb]\n",
    "model_name = ['Logistic Regression', 'K-Neighbors Classifier', 'Linear SVC', 'Random Forest Classifier', 'Multi nomial Naive Bayes', 'XGB Classifier']"
   ]
  },
  {
   "cell_type": "code",
   "execution_count": null,
   "metadata": {
    "collapsed": true
   },
   "outputs": [],
   "source": [
    "savemodel = False"
   ]
  },
  {
   "cell_type": "code",
   "execution_count": 20,
   "metadata": {
    "collapsed": true
   },
   "outputs": [],
   "source": [
    "if savemodel == True:\n",
    "    with open('data/pickle/xgb.pkl', 'wb') as f:\n",
    "        pickle.dump(xgb, f)"
   ]
  },
  {
   "cell_type": "code",
   "execution_count": 21,
   "metadata": {
    "collapsed": true
   },
   "outputs": [],
   "source": [
    "loadmodel = False"
   ]
  },
  {
   "cell_type": "code",
   "execution_count": 22,
   "metadata": {
    "collapsed": true
   },
   "outputs": [],
   "source": [
    "if loadmodel == True:\n",
    "    with open('data/pickle/xgb.pkl', 'rb') as f:\n",
    "        xgb = pickle.load(f)"
   ]
  },
  {
   "cell_type": "code",
   "execution_count": 17,
   "metadata": {
    "collapsed": false
   },
   "outputs": [
    {
     "name": "stdout",
     "output_type": "stream",
     "text": [
      "Logistic Regression \n",
      "\n",
      "Training accuracy: 0.46477\n",
      "Test accuracy: 0.52368\n",
      "Cross-validation mean score : 0.55614\n",
      "Cross-validation scores : [0.53508772 0.5877193  0.57894737 0.56140351 0.55263158 0.55263158\n",
      " 0.5877193  0.59649123 0.50877193 0.5       ]\n",
      "             precision    recall  f1-score   support\n",
      "\n",
      "          0       0.57      0.68      0.62       431\n",
      "          1       0.29      0.29      0.29       265\n",
      "          2       0.63      0.51      0.56       444\n",
      "\n",
      "avg / total       0.53      0.52      0.52      1140\n",
      " \n",
      "\n"
     ]
    },
    {
     "data": {
      "image/png": "[encoded data removed]",
      "text/plain": [
       "<Figure size 432x288 with 2 Axes>"
      ]
     },
     "metadata": {},
     "output_type": "display_data"
    }
   ],
   "source": [
    "print(model_name[0], '\\n')\n",
    "prediction(models[0], X_train, Y_train, X_test, Y_test)"
   ]
  },
  {
   "cell_type": "code",
   "execution_count": 20,
   "metadata": {
    "collapsed": false
   },
   "outputs": [
    {
     "name": "stdout",
     "output_type": "stream",
     "text": [
      "Logistic Regression \n",
      "\n",
      "Training accuracy: 0.46477\n",
      "Test accuracy: 0.46842\n",
      "Cross-validation mean score : 0.51316\n",
      "Cross-validation scores : [0.52631579 0.44736842 0.5        0.5        0.55263158 0.57894737\n",
      " 0.47368421 0.55263158 0.5        0.5       ]\n",
      "             precision    recall  f1-score   support\n",
      "\n",
      "          0       0.50      0.63      0.56       142\n",
      "          1       0.30      0.24      0.27       108\n",
      "          2       0.54      0.48      0.51       130\n",
      "\n",
      "avg / total       0.46      0.47      0.46       380\n",
      " \n",
      "\n"
     ]
    },
    {
     "data": {
      "image/png": "[encoded data removed]",
      "text/plain": [
       "<Figure size 432x288 with 2 Axes>"
      ]
     },
     "metadata": {},
     "output_type": "display_data"
    }
   ],
   "source": [
    "print(model_name[0], '\\n')\n",
    "prediction(models[0], X_train, Y_train, X_test_LALIGA, Y_test_LALIGA)"
   ]
  },
  {
   "cell_type": "code",
   "execution_count": 21,
   "metadata": {
    "collapsed": false
   },
   "outputs": [
    {
     "name": "stdout",
     "output_type": "stream",
     "text": [
      "Logistic Regression \n",
      "\n",
      "Training accuracy: 0.46477\n",
      "Test accuracy: 0.54474\n",
      "Cross-validation mean score : 0.51842\n",
      "Cross-validation scores : [0.63157895 0.5        0.57894737 0.44736842 0.5        0.52631579\n",
      " 0.5        0.39473684 0.60526316 0.5       ]\n",
      "             precision    recall  f1-score   support\n",
      "\n",
      "          0       0.60      0.71      0.65       145\n",
      "          1       0.31      0.40      0.35        77\n",
      "          2       0.68      0.46      0.55       158\n",
      "\n",
      "avg / total       0.57      0.54      0.55       380\n",
      " \n",
      "\n"
     ]
    },
    {
     "data": {
      "image/png": "[encoded data removed]",
      "text/plain": [
       "<Figure size 432x288 with 2 Axes>"
      ]
     },
     "metadata": {},
     "output_type": "display_data"
    }
   ],
   "source": [
    "print(model_name[0], '\\n')\n",
    "prediction(models[0], X_train, Y_train, X_test_EPL, Y_test_EPL)"
   ]
  },
  {
   "cell_type": "code",
   "execution_count": 22,
   "metadata": {
    "collapsed": false
   },
   "outputs": [
    {
     "name": "stdout",
     "output_type": "stream",
     "text": [
      "Logistic Regression \n",
      "\n",
      "Training accuracy: 0.46477\n",
      "Test accuracy: 0.55789\n",
      "Cross-validation mean score : 0.55789\n",
      "Cross-validation scores : [0.57894737 0.60526316 0.52631579 0.52631579 0.65789474 0.47368421\n",
      " 0.52631579 0.5        0.52631579 0.65789474]\n",
      "             precision    recall  f1-score   support\n",
      "\n",
      "          0       0.62      0.71      0.66       144\n",
      "          1       0.24      0.25      0.25        80\n",
      "          2       0.68      0.58      0.62       156\n",
      "\n",
      "avg / total       0.56      0.56      0.56       380\n",
      " \n",
      "\n"
     ]
    },
    {
     "data": {
      "image/png": "[encoded data removed]",
      "text/plain": [
       "<Figure size 432x288 with 2 Axes>"
      ]
     },
     "metadata": {},
     "output_type": "display_data"
    }
   ],
   "source": [
    "print(model_name[0], '\\n')\n",
    "prediction(models[0], X_train, Y_train, X_test_SERIE, Y_test_SERIE)"
   ]
  },
  {
   "cell_type": "code",
   "execution_count": 23,
   "metadata": {
    "collapsed": false
   },
   "outputs": [
    {
     "name": "stdout",
     "output_type": "stream",
     "text": [
      "Logistic Regression \n",
      "\n",
      "Training accuracy: 0.46477\n",
      "Test accuracy: 0.46078\n",
      "Cross-validation mean score : 0.46452\n",
      "Cross-validation scores : [0.5483871  0.41935484 0.41935484 0.48387097 0.32258065 0.4516129\n",
      " 0.5        0.56666667 0.53333333 0.4       ]\n",
      "             precision    recall  f1-score   support\n",
      "\n",
      "          0       0.50      0.62      0.55       112\n",
      "          1       0.24      0.27      0.26        73\n",
      "          2       0.62      0.43      0.51       121\n",
      "\n",
      "avg / total       0.48      0.46      0.46       306\n",
      " \n",
      "\n"
     ]
    },
    {
     "data": {
      "image/png": "[encoded data removed]",
      "text/plain": [
       "<Figure size 432x288 with 2 Axes>"
      ]
     },
     "metadata": {},
     "output_type": "display_data"
    }
   ],
   "source": [
    "print(model_name[0], '\\n')\n",
    "prediction(models[0], X_train, Y_train, X_test_BUNDES, Y_test_BUNDES)"
   ]
  },
  {
   "cell_type": "code",
   "execution_count": 24,
   "metadata": {
    "collapsed": false
   },
   "outputs": [
    {
     "name": "stdout",
     "output_type": "stream",
     "text": [
      "K-Neighbors Classifier \n",
      "\n",
      "Training accuracy: 0.51387\n",
      "Test accuracy: 0.49474\n",
      "Cross-validation mean score : 0.54561\n",
      "Cross-validation scores : [0.49122807 0.57894737 0.57894737 0.53508772 0.57017544 0.52631579\n",
      " 0.57894737 0.57894737 0.5        0.51754386]\n",
      "             precision    recall  f1-score   support\n",
      "\n",
      "          0       0.52      0.68      0.59       390\n",
      "          1       0.35      0.29      0.32       322\n",
      "          2       0.58      0.48      0.52       428\n",
      "\n",
      "avg / total       0.49      0.49      0.49      1140\n",
      " \n",
      "\n"
     ]
    },
    {
     "data": {
      "image/png": "[encoded data removed]",
      "text/plain": [
       "<Figure size 432x288 with 2 Axes>"
      ]
     },
     "metadata": {},
     "output_type": "display_data"
    }
   ],
   "source": [
    "print(model_name[1], '\\n')\n",
    "prediction(models[1], X_train, Y_train, X_test, Y_test)"
   ]
  },
  {
   "cell_type": "code",
   "execution_count": 25,
   "metadata": {
    "collapsed": false
   },
   "outputs": [
    {
     "name": "stdout",
     "output_type": "stream",
     "text": [
      "K-Neighbors Classifier \n",
      "\n",
      "Training accuracy: 0.51387\n",
      "Test accuracy: 0.44737\n",
      "Cross-validation mean score : 0.53158\n",
      "Cross-validation scores : [0.63157895 0.5        0.5        0.68421053 0.63157895 0.47368421\n",
      " 0.52631579 0.5        0.44736842 0.42105263]\n",
      "             precision    recall  f1-score   support\n",
      "\n",
      "          0       0.46      0.65      0.54       127\n",
      "          1       0.35      0.24      0.29       123\n",
      "          2       0.50      0.45      0.47       130\n",
      "\n",
      "avg / total       0.44      0.45      0.43       380\n",
      " \n",
      "\n"
     ]
    },
    {
     "data": {
      "image/png": "[encoded data removed]",
      "text/plain": [
       "<Figure size 432x288 with 2 Axes>"
      ]
     },
     "metadata": {},
     "output_type": "display_data"
    }
   ],
   "source": [
    "print(model_name[1], '\\n')\n",
    "prediction(models[1], X_train, Y_train, X_test_LALIGA, Y_test_LALIGA)"
   ]
  },
  {
   "cell_type": "code",
   "execution_count": 26,
   "metadata": {
    "collapsed": false
   },
   "outputs": [
    {
     "name": "stdout",
     "output_type": "stream",
     "text": [
      "K-Neighbors Classifier \n",
      "\n",
      "Training accuracy: 0.51387\n",
      "Test accuracy: 0.49474\n",
      "Cross-validation mean score : 0.52105\n",
      "Cross-validation scores : [0.57894737 0.42105263 0.55263158 0.42105263 0.5        0.55263158\n",
      " 0.55263158 0.55263158 0.60526316 0.47368421]\n",
      "             precision    recall  f1-score   support\n",
      "\n",
      "          0       0.50      0.70      0.58       125\n",
      "          1       0.41      0.35      0.38       116\n",
      "          2       0.56      0.43      0.49       139\n",
      "\n",
      "avg / total       0.50      0.49      0.49       380\n",
      " \n",
      "\n"
     ]
    },
    {
     "data": {
      "image/png": "[encoded data removed]",
      "text/plain": [
       "<Figure size 432x288 with 2 Axes>"
      ]
     },
     "metadata": {},
     "output_type": "display_data"
    }
   ],
   "source": [
    "print(model_name[1], '\\n')\n",
    "prediction(models[1], X_train, Y_train, X_test_EPL, Y_test_EPL)"
   ]
  },
  {
   "cell_type": "code",
   "execution_count": 27,
   "metadata": {
    "collapsed": false
   },
   "outputs": [
    {
     "name": "stdout",
     "output_type": "stream",
     "text": [
      "K-Neighbors Classifier \n",
      "\n",
      "Training accuracy: 0.51387\n",
      "Test accuracy: 0.54211\n",
      "Cross-validation mean score : 0.54211\n",
      "Cross-validation scores : [0.60526316 0.63157895 0.5        0.44736842 0.71052632 0.44736842\n",
      " 0.47368421 0.55263158 0.55263158 0.5       ]\n",
      "             precision    recall  f1-score   support\n",
      "\n",
      "          0       0.59      0.70      0.64       138\n",
      "          1       0.27      0.27      0.27        83\n",
      "          2       0.65      0.55      0.60       159\n",
      "\n",
      "avg / total       0.55      0.54      0.54       380\n",
      " \n",
      "\n"
     ]
    },
    {
     "data": {
      "image/png": "[encoded data removed]",
      "text/plain": [
       "<Figure size 432x288 with 2 Axes>"
      ]
     },
     "metadata": {},
     "output_type": "display_data"
    }
   ],
   "source": [
    "print(model_name[1], '\\n')\n",
    "prediction(models[1], X_train, Y_train, X_test_SERIE, Y_test_SERIE)"
   ]
  },
  {
   "cell_type": "code",
   "execution_count": 28,
   "metadata": {
    "collapsed": false
   },
   "outputs": [
    {
     "name": "stdout",
     "output_type": "stream",
     "text": [
      "K-Neighbors Classifier \n",
      "\n",
      "Training accuracy: 0.51387\n",
      "Test accuracy: 0.44118\n",
      "Cross-validation mean score : 0.47409\n",
      "Cross-validation scores : [0.67741935 0.38709677 0.51612903 0.48387097 0.32258065 0.38709677\n",
      " 0.5        0.56666667 0.5        0.4       ]\n",
      "             precision    recall  f1-score   support\n",
      "\n",
      "          0       0.42      0.60      0.49        97\n",
      "          1       0.42      0.33      0.37       106\n",
      "          2       0.50      0.41      0.45       103\n",
      "\n",
      "avg / total       0.45      0.44      0.44       306\n",
      " \n",
      "\n"
     ]
    },
    {
     "data": {
      "image/png": "[encoded data removed]",
      "text/plain": [
       "<Figure size 432x288 with 2 Axes>"
      ]
     },
     "metadata": {},
     "output_type": "display_data"
    }
   ],
   "source": [
    "print(model_name[1], '\\n')\n",
    "prediction(models[1], X_train, Y_train, X_test_BUNDES, Y_test_BUNDES)"
   ]
  },
  {
   "cell_type": "code",
   "execution_count": 29,
   "metadata": {
    "collapsed": false
   },
   "outputs": [
    {
     "name": "stdout",
     "output_type": "stream",
     "text": [
      "Linear SVC \n",
      "\n",
      "Training accuracy: 0.45987\n",
      "Test accuracy: 0.54211\n",
      "Cross-validation mean score : 0.54474\n",
      "Cross-validation scores : [0.52631579 0.56140351 0.5877193  0.57894737 0.55263158 0.52631579\n",
      " 0.57017544 0.57894737 0.48245614 0.48245614]\n",
      "             precision    recall  f1-score   support\n",
      "\n",
      "          0       0.65      0.66      0.66       506\n",
      "          1       0.24      0.31      0.27       210\n",
      "          2       0.61      0.51      0.56       424\n",
      "\n",
      "avg / total       0.56      0.54      0.55      1140\n",
      " \n",
      "\n"
     ]
    },
    {
     "data": {
      "image/png": "[encoded data removed]",
      "text/plain": [
       "<Figure size 432x288 with 2 Axes>"
      ]
     },
     "metadata": {},
     "output_type": "display_data"
    }
   ],
   "source": [
    "print(model_name[2], '\\n')\n",
    "prediction(models[2], X_train, Y_train, X_test, Y_test)"
   ]
  },
  {
   "cell_type": "code",
   "execution_count": 30,
   "metadata": {
    "collapsed": false
   },
   "outputs": [
    {
     "name": "stdout",
     "output_type": "stream",
     "text": [
      "Linear SVC \n",
      "\n",
      "Training accuracy: 0.46378\n",
      "Test accuracy: 0.48421\n",
      "Cross-validation mean score : 0.52105\n",
      "Cross-validation scores : [0.55263158 0.44736842 0.52631579 0.55263158 0.55263158 0.55263158\n",
      " 0.5        0.55263158 0.5        0.47368421]\n",
      "             precision    recall  f1-score   support\n",
      "\n",
      "          0       0.47      0.66      0.55       128\n",
      "          1       0.30      0.25      0.27       104\n",
      "          2       0.64      0.50      0.56       148\n",
      "\n",
      "avg / total       0.49      0.48      0.48       380\n",
      " \n",
      "\n"
     ]
    },
    {
     "data": {
      "image/png": "[encoded data removed]",
      "text/plain": [
       "<Figure size 432x288 with 2 Axes>"
      ]
     },
     "metadata": {},
     "output_type": "display_data"
    }
   ],
   "source": [
    "print(model_name[2], '\\n')\n",
    "prediction(models[2], X_train, Y_train, X_test_LALIGA, Y_test_LALIGA)"
   ]
  },
  {
   "cell_type": "code",
   "execution_count": 31,
   "metadata": {
    "collapsed": false
   },
   "outputs": [
    {
     "name": "stdout",
     "output_type": "stream",
     "text": [
      "Linear SVC \n",
      "\n",
      "Training accuracy: 0.45831\n",
      "Test accuracy: 0.53421\n",
      "Cross-validation mean score : 0.48947\n",
      "Cross-validation scores : [0.60526316 0.5        0.5        0.44736842 0.5        0.44736842\n",
      " 0.44736842 0.36842105 0.57894737 0.5       ]\n",
      "             precision    recall  f1-score   support\n",
      "\n",
      "          0       0.62      0.68      0.65       158\n",
      "          1       0.22      0.42      0.29        53\n",
      "          2       0.68      0.43      0.53       169\n",
      "\n",
      "avg / total       0.59      0.53      0.55       380\n",
      " \n",
      "\n"
     ]
    },
    {
     "data": {
      "image/png": "[encoded data removed]",
      "text/plain": [
       "<Figure size 432x288 with 2 Axes>"
      ]
     },
     "metadata": {},
     "output_type": "display_data"
    }
   ],
   "source": [
    "print(model_name[2], '\\n')\n",
    "prediction(models[2], X_train, Y_train, X_test_EPL, Y_test_EPL)"
   ]
  },
  {
   "cell_type": "code",
   "execution_count": 32,
   "metadata": {
    "collapsed": false
   },
   "outputs": [
    {
     "name": "stdout",
     "output_type": "stream",
     "text": [
      "Linear SVC \n",
      "\n",
      "Training accuracy: 0.45469\n",
      "Test accuracy: 0.54211\n",
      "Cross-validation mean score : 0.54737\n",
      "Cross-validation scores : [0.57894737 0.55263158 0.52631579 0.5        0.63157895 0.5\n",
      " 0.47368421 0.52631579 0.52631579 0.65789474]\n",
      "             precision    recall  f1-score   support\n",
      "\n",
      "          0       0.55      0.74      0.63       123\n",
      "          1       0.18      0.23      0.20        65\n",
      "          2       0.75      0.52      0.62       192\n",
      "\n",
      "avg / total       0.59      0.54      0.55       380\n",
      " \n",
      "\n"
     ]
    },
    {
     "data": {
      "image/png": "[encoded data removed]",
      "text/plain": [
       "<Figure size 432x288 with 2 Axes>"
      ]
     },
     "metadata": {},
     "output_type": "display_data"
    }
   ],
   "source": [
    "print(model_name[2], '\\n')\n",
    "prediction(models[2], X_train, Y_train, X_test_SERIE, Y_test_SERIE)"
   ]
  },
  {
   "cell_type": "code",
   "execution_count": 33,
   "metadata": {
    "collapsed": false
   },
   "outputs": [
    {
     "name": "stdout",
     "output_type": "stream",
     "text": [
      "Linear SVC \n",
      "\n",
      "Training accuracy: 0.46683\n",
      "Test accuracy: 0.42484\n",
      "Cross-validation mean score : 0.45806\n",
      "Cross-validation scores : [0.48387097 0.38709677 0.38709677 0.51612903 0.32258065 0.48387097\n",
      " 0.5        0.6        0.53333333 0.36666667]\n",
      "             precision    recall  f1-score   support\n",
      "\n",
      "          0       0.33      0.65      0.44        71\n",
      "          1       0.39      0.29      0.33       110\n",
      "          2       0.62      0.42      0.50       125\n",
      "\n",
      "avg / total       0.47      0.42      0.42       306\n",
      " \n",
      "\n"
     ]
    },
    {
     "data": {
      "image/png": "[encoded data removed]",
      "text/plain": [
       "<Figure size 432x288 with 2 Axes>"
      ]
     },
     "metadata": {},
     "output_type": "display_data"
    }
   ],
   "source": [
    "print(model_name[2], '\\n')\n",
    "prediction(models[2], X_train, Y_train, X_test_BUNDES, Y_test_BUNDES)"
   ]
  },
  {
   "cell_type": "code",
   "execution_count": 34,
   "metadata": {
    "collapsed": false
   },
   "outputs": [
    {
     "name": "stdout",
     "output_type": "stream",
     "text": [
      "Random Forest Classifier \n",
      "\n",
      "Training accuracy: 0.99078\n",
      "Test accuracy: 0.51228\n",
      "Cross-validation mean score : 0.52018\n",
      "Cross-validation scores : [0.50877193 0.45614035 0.53508772 0.56140351 0.51754386 0.50877193\n",
      " 0.56140351 0.57017544 0.51754386 0.46491228]\n",
      "             precision    recall  f1-score   support\n",
      "\n",
      "          0       0.66      0.62      0.64       551\n",
      "          1       0.27      0.27      0.27       263\n",
      "          2       0.48      0.53      0.50       326\n",
      "\n",
      "avg / total       0.52      0.51      0.51      1140\n",
      " \n",
      "\n"
     ]
    },
    {
     "data": {
      "image/png": "[encoded data removed]",
      "text/plain": [
       "<Figure size 432x288 with 2 Axes>"
      ]
     },
     "metadata": {},
     "output_type": "display_data"
    }
   ],
   "source": [
    "print(model_name[3], '\\n')\n",
    "prediction(models[3], X_train, Y_train, X_test, Y_test)"
   ]
  },
  {
   "cell_type": "code",
   "execution_count": 35,
   "metadata": {
    "collapsed": false
   },
   "outputs": [
    {
     "name": "stdout",
     "output_type": "stream",
     "text": [
      "Random Forest Classifier \n",
      "\n",
      "Training accuracy: 0.99063\n",
      "Test accuracy: 0.48421\n",
      "Cross-validation mean score : 0.46842\n",
      "Cross-validation scores : [0.39473684 0.44736842 0.5        0.65789474 0.60526316 0.44736842\n",
      " 0.28947368 0.44736842 0.5        0.39473684]\n",
      "             precision    recall  f1-score   support\n",
      "\n",
      "          0       0.64      0.59      0.62       194\n",
      "          1       0.30      0.27      0.29        95\n",
      "          2       0.37      0.47      0.42        91\n",
      "\n",
      "avg / total       0.49      0.48      0.49       380\n",
      " \n",
      "\n"
     ]
    },
    {
     "data": {
      "image/png": "[encoded data removed]",
      "text/plain": [
       "<Figure size 432x288 with 2 Axes>"
      ]
     },
     "metadata": {},
     "output_type": "display_data"
    }
   ],
   "source": [
    "print(model_name[3], '\\n')\n",
    "prediction(models[3], X_train, Y_train, X_test_LALIGA, Y_test_LALIGA)"
   ]
  },
  {
   "cell_type": "code",
   "execution_count": 36,
   "metadata": {
    "collapsed": false
   },
   "outputs": [
    {
     "name": "stdout",
     "output_type": "stream",
     "text": [
      "Random Forest Classifier \n",
      "\n",
      "Training accuracy: 0.98985\n",
      "Test accuracy: 0.47632\n",
      "Cross-validation mean score : 0.47368\n",
      "Cross-validation scores : [0.60526316 0.39473684 0.55263158 0.34210526 0.47368421 0.36842105\n",
      " 0.55263158 0.52631579 0.5        0.42105263]\n",
      "             precision    recall  f1-score   support\n",
      "\n",
      "          0       0.54      0.59      0.56       160\n",
      "          1       0.32      0.31      0.32       102\n",
      "          2       0.51      0.47      0.49       118\n",
      "\n",
      "avg / total       0.47      0.48      0.47       380\n",
      " \n",
      "\n"
     ]
    },
    {
     "data": {
      "image/png": "[encoded data removed]",
      "text/plain": [
       "<Figure size 432x288 with 2 Axes>"
      ]
     },
     "metadata": {},
     "output_type": "display_data"
    }
   ],
   "source": [
    "print(model_name[3], '\\n')\n",
    "prediction(models[3], X_train, Y_train, X_test_EPL, Y_test_EPL)"
   ]
  },
  {
   "cell_type": "code",
   "execution_count": 37,
   "metadata": {
    "collapsed": false
   },
   "outputs": [
    {
     "name": "stdout",
     "output_type": "stream",
     "text": [
      "Random Forest Classifier \n",
      "\n",
      "Training accuracy: 0.98978\n",
      "Test accuracy: 0.53947\n",
      "Cross-validation mean score : 0.55000\n",
      "Cross-validation scores : [0.60526316 0.55263158 0.5        0.5        0.73684211 0.5\n",
      " 0.47368421 0.52631579 0.5        0.60526316]\n",
      "             precision    recall  f1-score   support\n",
      "\n",
      "          0       0.72      0.65      0.68       181\n",
      "          1       0.33      0.29      0.31        92\n",
      "          2       0.45      0.56      0.50       107\n",
      "\n",
      "avg / total       0.55      0.54      0.54       380\n",
      " \n",
      "\n"
     ]
    },
    {
     "data": {
      "image/png": "[encoded data removed]",
      "text/plain": [
       "<Figure size 432x288 with 2 Axes>"
      ]
     },
     "metadata": {},
     "output_type": "display_data"
    }
   ],
   "source": [
    "print(model_name[3], '\\n')\n",
    "prediction(models[3], X_train, Y_train, X_test_SERIE, Y_test_SERIE)"
   ]
  },
  {
   "cell_type": "code",
   "execution_count": 38,
   "metadata": {
    "collapsed": false
   },
   "outputs": [
    {
     "name": "stdout",
     "output_type": "stream",
     "text": [
      "Random Forest Classifier \n",
      "\n",
      "Training accuracy: 0.98929\n",
      "Test accuracy: 0.43791\n",
      "Cross-validation mean score : 0.42839\n",
      "Cross-validation scores : [0.48387097 0.32258065 0.4516129  0.51612903 0.29032258 0.41935484\n",
      " 0.5        0.46666667 0.36666667 0.46666667]\n",
      "             precision    recall  f1-score   support\n",
      "\n",
      "          0       0.53      0.53      0.53       138\n",
      "          1       0.31      0.32      0.32        82\n",
      "          2       0.42      0.41      0.41        86\n",
      "\n",
      "avg / total       0.44      0.44      0.44       306\n",
      " \n",
      "\n"
     ]
    },
    {
     "data": {
      "image/png": "[encoded data removed]",
      "text/plain": [
       "<Figure size 432x288 with 2 Axes>"
      ]
     },
     "metadata": {},
     "output_type": "display_data"
    }
   ],
   "source": [
    "print(model_name[3], '\\n')\n",
    "prediction(models[3], X_train, Y_train, X_test_BUNDES, Y_test_BUNDES)"
   ]
  },
  {
   "cell_type": "code",
   "execution_count": 39,
   "metadata": {
    "collapsed": false
   },
   "outputs": [
    {
     "name": "stdout",
     "output_type": "stream",
     "text": [
      "Multi nomial Naive Bayes \n",
      "\n",
      "Training accuracy: 0.44469\n",
      "Test accuracy: 0.50088\n",
      "Cross-validation mean score : 0.52982\n",
      "Cross-validation scores : [0.52631579 0.52631579 0.51754386 0.53508772 0.57017544 0.44736842\n",
      " 0.53508772 0.60526316 0.50877193 0.52631579]\n",
      "             precision    recall  f1-score   support\n",
      "\n",
      "          0       0.53      0.66      0.59       410\n",
      "          1       0.32      0.27      0.29       320\n",
      "          2       0.60      0.52      0.56       410\n",
      "\n",
      "avg / total       0.50      0.50      0.49      1140\n",
      " \n",
      "\n"
     ]
    },
    {
     "data": {
      "image/png": "[encoded data removed]",
      "text/plain": [
       "<Figure size 432x288 with 2 Axes>"
      ]
     },
     "metadata": {},
     "output_type": "display_data"
    }
   ],
   "source": [
    "print(model_name[4], '\\n')\n",
    "prediction(models[4], X_train, Y_train, X_test, Y_test)"
   ]
  },
  {
   "cell_type": "code",
   "execution_count": 40,
   "metadata": {
    "collapsed": false
   },
   "outputs": [
    {
     "name": "stdout",
     "output_type": "stream",
     "text": [
      "Multi nomial Naive Bayes \n",
      "\n",
      "Training accuracy: 0.44469\n",
      "Test accuracy: 0.46316\n",
      "Cross-validation mean score : 0.51053\n",
      "Cross-validation scores : [0.52631579 0.5        0.44736842 0.44736842 0.60526316 0.55263158\n",
      " 0.5        0.63157895 0.42105263 0.47368421]\n",
      "             precision    recall  f1-score   support\n",
      "\n",
      "          0       0.47      0.64      0.55       132\n",
      "          1       0.30      0.21      0.25       122\n",
      "          2       0.57      0.52      0.54       126\n",
      "\n",
      "avg / total       0.45      0.46      0.45       380\n",
      " \n",
      "\n"
     ]
    },
    {
     "data": {
      "image/png": "[encoded data removed]",
      "text/plain": [
       "<Figure size 432x288 with 2 Axes>"
      ]
     },
     "metadata": {},
     "output_type": "display_data"
    }
   ],
   "source": [
    "print(model_name[4], '\\n')\n",
    "prediction(models[4], X_train, Y_train, X_test_LALIGA, Y_test_LALIGA)"
   ]
  },
  {
   "cell_type": "code",
   "execution_count": 86,
   "metadata": {
    "collapsed": false
   },
   "outputs": [
    {
     "name": "stdout",
     "output_type": "stream",
     "text": [
      "Multi nomial Naive Bayes \n",
      "\n",
      "Training accuracy: 0.44469\n",
      "Test accuracy: 0.50000\n",
      "Cross-validation mean score : 0.52632\n",
      "Cross-validation scores : [0.52631579 0.47368421 0.63157895 0.39473684 0.63157895 0.47368421\n",
      " 0.57894737 0.5        0.5        0.55263158]\n",
      "             precision    recall  f1-score   support\n",
      "\n",
      "          0       0.49      0.70      0.57       120\n",
      "          1       0.42      0.33      0.37       126\n",
      "          2       0.59      0.48      0.53       134\n",
      "\n",
      "avg / total       0.50      0.50      0.49       380\n",
      " \n",
      "\n"
     ]
    },
    {
     "data": {
      "image/png": "[encoded data removed]",
      "text/plain": [
       "<Figure size 432x288 with 2 Axes>"
      ]
     },
     "metadata": {},
     "output_type": "display_data"
    }
   ],
   "source": [
    "print(model_name[4], '\\n')\n",
    "prediction(models[4], X_train, Y_train, X_test_EPL, Y_test_EPL)"
   ]
  },
  {
   "cell_type": "code",
   "execution_count": 42,
   "metadata": {
    "collapsed": false
   },
   "outputs": [
    {
     "name": "stdout",
     "output_type": "stream",
     "text": [
      "Multi nomial Naive Bayes \n",
      "\n",
      "Training accuracy: 0.44469\n",
      "Test accuracy: 0.53947\n",
      "Cross-validation mean score : 0.57105\n",
      "Cross-validation scores : [0.55263158 0.60526316 0.52631579 0.57894737 0.63157895 0.52631579\n",
      " 0.60526316 0.60526316 0.5        0.57894737]\n",
      "             precision    recall  f1-score   support\n",
      "\n",
      "          0       0.62      0.65      0.63       158\n",
      "          1       0.22      0.25      0.23        72\n",
      "          2       0.64      0.57      0.60       150\n",
      "\n",
      "avg / total       0.55      0.54      0.54       380\n",
      " \n",
      "\n"
     ]
    },
    {
     "data": {
      "image/png": "[encoded data removed]",
      "text/plain": [
       "<Figure size 432x288 with 2 Axes>"
      ]
     },
     "metadata": {},
     "output_type": "display_data"
    }
   ],
   "source": [
    "print(model_name[4], '\\n')\n",
    "prediction(models[4], X_train, Y_train, X_test_SERIE, Y_test_SERIE)"
   ]
  },
  {
   "cell_type": "code",
   "execution_count": 43,
   "metadata": {
    "collapsed": false
   },
   "outputs": [
    {
     "name": "stdout",
     "output_type": "stream",
     "text": [
      "Multi nomial Naive Bayes \n",
      "\n",
      "Training accuracy: 0.44469\n",
      "Test accuracy: 0.43137\n",
      "Cross-validation mean score : 0.46473\n",
      "Cross-validation scores : [0.48387097 0.41935484 0.48387097 0.4516129  0.32258065 0.41935484\n",
      " 0.6        0.63333333 0.46666667 0.36666667]\n",
      "             precision    recall  f1-score   support\n",
      "\n",
      "          0       0.37      0.57      0.45        90\n",
      "          1       0.45      0.32      0.37       116\n",
      "          2       0.52      0.44      0.48       100\n",
      "\n",
      "avg / total       0.45      0.43      0.43       306\n",
      " \n",
      "\n"
     ]
    },
    {
     "data": {
      "image/png": "[encoded data removed]",
      "text/plain": [
       "<Figure size 432x288 with 2 Axes>"
      ]
     },
     "metadata": {},
     "output_type": "display_data"
    }
   ],
   "source": [
    "print(model_name[4], '\\n')\n",
    "prediction(models[4], X_train, Y_train, X_test_BUNDES, Y_test_BUNDES)"
   ]
  },
  {
   "cell_type": "code",
   "execution_count": 44,
   "metadata": {
    "collapsed": false
   },
   "outputs": [
    {
     "name": "stdout",
     "output_type": "stream",
     "text": [
      "XGB Classifier \n",
      "\n"
     ]
    },
    {
     "name": "stderr",
     "output_type": "stream",
     "text": [
      "C:\\Users\\dlfdus\\Anaconda3\\lib\\site-packages\\sklearn\\preprocessing\\label.py:151: DeprecationWarning: The truth value of an empty array is ambiguous. Returning False, but in future this will result in an error. Use `array.size > 0` to check that an array is not empty.\n",
      "  if diff:\n",
      "C:\\Users\\dlfdus\\Anaconda3\\lib\\site-packages\\sklearn\\preprocessing\\label.py:151: DeprecationWarning: The truth value of an empty array is ambiguous. Returning False, but in future this will result in an error. Use `array.size > 0` to check that an array is not empty.\n",
      "  if diff:\n",
      "C:\\Users\\dlfdus\\Anaconda3\\lib\\site-packages\\sklearn\\preprocessing\\label.py:151: DeprecationWarning: The truth value of an empty array is ambiguous. Returning False, but in future this will result in an error. Use `array.size > 0` to check that an array is not empty.\n",
      "  if diff:\n",
      "C:\\Users\\dlfdus\\Anaconda3\\lib\\site-packages\\sklearn\\preprocessing\\label.py:151: DeprecationWarning: The truth value of an empty array is ambiguous. Returning False, but in future this will result in an error. Use `array.size > 0` to check that an array is not empty.\n",
      "  if diff:\n",
      "C:\\Users\\dlfdus\\Anaconda3\\lib\\site-packages\\sklearn\\preprocessing\\label.py:151: DeprecationWarning: The truth value of an empty array is ambiguous. Returning False, but in future this will result in an error. Use `array.size > 0` to check that an array is not empty.\n",
      "  if diff:\n",
      "C:\\Users\\dlfdus\\Anaconda3\\lib\\site-packages\\sklearn\\preprocessing\\label.py:151: DeprecationWarning: The truth value of an empty array is ambiguous. Returning False, but in future this will result in an error. Use `array.size > 0` to check that an array is not empty.\n",
      "  if diff:\n",
      "C:\\Users\\dlfdus\\Anaconda3\\lib\\site-packages\\sklearn\\preprocessing\\label.py:151: DeprecationWarning: The truth value of an empty array is ambiguous. Returning False, but in future this will result in an error. Use `array.size > 0` to check that an array is not empty.\n",
      "  if diff:\n",
      "C:\\Users\\dlfdus\\Anaconda3\\lib\\site-packages\\sklearn\\preprocessing\\label.py:151: DeprecationWarning: The truth value of an empty array is ambiguous. Returning False, but in future this will result in an error. Use `array.size > 0` to check that an array is not empty.\n",
      "  if diff:\n",
      "C:\\Users\\dlfdus\\Anaconda3\\lib\\site-packages\\sklearn\\preprocessing\\label.py:151: DeprecationWarning: The truth value of an empty array is ambiguous. Returning False, but in future this will result in an error. Use `array.size > 0` to check that an array is not empty.\n",
      "  if diff:\n",
      "C:\\Users\\dlfdus\\Anaconda3\\lib\\site-packages\\sklearn\\preprocessing\\label.py:151: DeprecationWarning: The truth value of an empty array is ambiguous. Returning False, but in future this will result in an error. Use `array.size > 0` to check that an array is not empty.\n",
      "  if diff:\n",
      "C:\\Users\\dlfdus\\Anaconda3\\lib\\site-packages\\sklearn\\preprocessing\\label.py:151: DeprecationWarning: The truth value of an empty array is ambiguous. Returning False, but in future this will result in an error. Use `array.size > 0` to check that an array is not empty.\n",
      "  if diff:\n"
     ]
    },
    {
     "name": "stdout",
     "output_type": "stream",
     "text": [
      "Training accuracy: 0.51714\n"
     ]
    },
    {
     "name": "stderr",
     "output_type": "stream",
     "text": [
      "C:\\Users\\dlfdus\\Anaconda3\\lib\\site-packages\\sklearn\\preprocessing\\label.py:151: DeprecationWarning: The truth value of an empty array is ambiguous. Returning False, but in future this will result in an error. Use `array.size > 0` to check that an array is not empty.\n",
      "  if diff:\n"
     ]
    },
    {
     "name": "stdout",
     "output_type": "stream",
     "text": [
      "Test accuracy: 0.53333\n",
      "Cross-validation mean score : 0.55965\n",
      "Cross-validation scores : [0.56140351 0.57894737 0.56140351 0.56140351 0.56140351 0.57017544\n",
      " 0.57894737 0.5877193  0.51754386 0.51754386]\n"
     ]
    },
    {
     "name": "stderr",
     "output_type": "stream",
     "text": [
      "C:\\Users\\dlfdus\\Anaconda3\\lib\\site-packages\\sklearn\\preprocessing\\label.py:151: DeprecationWarning: The truth value of an empty array is ambiguous. Returning False, but in future this will result in an error. Use `array.size > 0` to check that an array is not empty.\n",
      "  if diff:\n"
     ]
    },
    {
     "name": "stdout",
     "output_type": "stream",
     "text": [
      "             precision    recall  f1-score   support\n",
      "\n",
      "          0       0.64      0.66      0.65       501\n",
      "          1       0.07      0.26      0.11        69\n",
      "          2       0.73      0.46      0.56       570\n",
      "\n",
      "avg / total       0.65      0.53      0.57      1140\n",
      " \n",
      "\n"
     ]
    },
    {
     "data": {
      "image/png": "[encoded data removed]",
      "text/plain": [
       "<Figure size 432x288 with 2 Axes>"
      ]
     },
     "metadata": {},
     "output_type": "display_data"
    }
   ],
   "source": [
    "print(model_name[5], '\\n')\n",
    "prediction(models[5], X_train, Y_train, X_test, Y_test)"
   ]
  },
  {
   "cell_type": "code",
   "execution_count": 45,
   "metadata": {
    "collapsed": false
   },
   "outputs": [
    {
     "name": "stdout",
     "output_type": "stream",
     "text": [
      "XGB Classifier \n",
      "\n"
     ]
    },
    {
     "name": "stderr",
     "output_type": "stream",
     "text": [
      "C:\\Users\\dlfdus\\Anaconda3\\lib\\site-packages\\sklearn\\preprocessing\\label.py:151: DeprecationWarning: The truth value of an empty array is ambiguous. Returning False, but in future this will result in an error. Use `array.size > 0` to check that an array is not empty.\n",
      "  if diff:\n",
      "C:\\Users\\dlfdus\\Anaconda3\\lib\\site-packages\\sklearn\\preprocessing\\label.py:151: DeprecationWarning: The truth value of an empty array is ambiguous. Returning False, but in future this will result in an error. Use `array.size > 0` to check that an array is not empty.\n",
      "  if diff:\n",
      "C:\\Users\\dlfdus\\Anaconda3\\lib\\site-packages\\sklearn\\preprocessing\\label.py:151: DeprecationWarning: The truth value of an empty array is ambiguous. Returning False, but in future this will result in an error. Use `array.size > 0` to check that an array is not empty.\n",
      "  if diff:\n",
      "C:\\Users\\dlfdus\\Anaconda3\\lib\\site-packages\\sklearn\\preprocessing\\label.py:151: DeprecationWarning: The truth value of an empty array is ambiguous. Returning False, but in future this will result in an error. Use `array.size > 0` to check that an array is not empty.\n",
      "  if diff:\n",
      "C:\\Users\\dlfdus\\Anaconda3\\lib\\site-packages\\sklearn\\preprocessing\\label.py:151: DeprecationWarning: The truth value of an empty array is ambiguous. Returning False, but in future this will result in an error. Use `array.size > 0` to check that an array is not empty.\n",
      "  if diff:\n",
      "C:\\Users\\dlfdus\\Anaconda3\\lib\\site-packages\\sklearn\\preprocessing\\label.py:151: DeprecationWarning: The truth value of an empty array is ambiguous. Returning False, but in future this will result in an error. Use `array.size > 0` to check that an array is not empty.\n",
      "  if diff:\n",
      "C:\\Users\\dlfdus\\Anaconda3\\lib\\site-packages\\sklearn\\preprocessing\\label.py:151: DeprecationWarning: The truth value of an empty array is ambiguous. Returning False, but in future this will result in an error. Use `array.size > 0` to check that an array is not empty.\n",
      "  if diff:\n",
      "C:\\Users\\dlfdus\\Anaconda3\\lib\\site-packages\\sklearn\\preprocessing\\label.py:151: DeprecationWarning: The truth value of an empty array is ambiguous. Returning False, but in future this will result in an error. Use `array.size > 0` to check that an array is not empty.\n",
      "  if diff:\n",
      "C:\\Users\\dlfdus\\Anaconda3\\lib\\site-packages\\sklearn\\preprocessing\\label.py:151: DeprecationWarning: The truth value of an empty array is ambiguous. Returning False, but in future this will result in an error. Use `array.size > 0` to check that an array is not empty.\n",
      "  if diff:\n",
      "C:\\Users\\dlfdus\\Anaconda3\\lib\\site-packages\\sklearn\\preprocessing\\label.py:151: DeprecationWarning: The truth value of an empty array is ambiguous. Returning False, but in future this will result in an error. Use `array.size > 0` to check that an array is not empty.\n",
      "  if diff:\n",
      "C:\\Users\\dlfdus\\Anaconda3\\lib\\site-packages\\sklearn\\preprocessing\\label.py:151: DeprecationWarning: The truth value of an empty array is ambiguous. Returning False, but in future this will result in an error. Use `array.size > 0` to check that an array is not empty.\n",
      "  if diff:\n"
     ]
    },
    {
     "name": "stdout",
     "output_type": "stream",
     "text": [
      "Training accuracy: 0.51714\n"
     ]
    },
    {
     "name": "stderr",
     "output_type": "stream",
     "text": [
      "C:\\Users\\dlfdus\\Anaconda3\\lib\\site-packages\\sklearn\\preprocessing\\label.py:151: DeprecationWarning: The truth value of an empty array is ambiguous. Returning False, but in future this will result in an error. Use `array.size > 0` to check that an array is not empty.\n",
      "  if diff:\n"
     ]
    },
    {
     "name": "stdout",
     "output_type": "stream",
     "text": [
      "Test accuracy: 0.50789\n",
      "Cross-validation mean score : 0.51316\n",
      "Cross-validation scores : [0.60526316 0.52631579 0.39473684 0.68421053 0.5        0.44736842\n",
      " 0.52631579 0.55263158 0.44736842 0.44736842]\n"
     ]
    },
    {
     "name": "stderr",
     "output_type": "stream",
     "text": [
      "C:\\Users\\dlfdus\\Anaconda3\\lib\\site-packages\\sklearn\\preprocessing\\label.py:151: DeprecationWarning: The truth value of an empty array is ambiguous. Returning False, but in future this will result in an error. Use `array.size > 0` to check that an array is not empty.\n",
      "  if diff:\n"
     ]
    },
    {
     "name": "stdout",
     "output_type": "stream",
     "text": [
      "             precision    recall  f1-score   support\n",
      "\n",
      "          0       0.63      0.62      0.62       180\n",
      "          1       0.05      0.14      0.07        28\n",
      "          2       0.67      0.45      0.54       172\n",
      "\n",
      "avg / total       0.60      0.51      0.54       380\n",
      " \n",
      "\n"
     ]
    },
    {
     "data": {
      "image/png": "[encoded data removed]",
      "text/plain": [
       "<Figure size 432x288 with 2 Axes>"
      ]
     },
     "metadata": {},
     "output_type": "display_data"
    }
   ],
   "source": [
    "print(model_name[5], '\\n')\n",
    "prediction(models[5], X_train, Y_train, X_test_LALIGA, Y_test_LALIGA)"
   ]
  },
  {
   "cell_type": "code",
   "execution_count": 46,
   "metadata": {
    "collapsed": false
   },
   "outputs": [
    {
     "name": "stdout",
     "output_type": "stream",
     "text": [
      "XGB Classifier \n",
      "\n"
     ]
    },
    {
     "name": "stderr",
     "output_type": "stream",
     "text": [
      "C:\\Users\\dlfdus\\Anaconda3\\lib\\site-packages\\sklearn\\preprocessing\\label.py:151: DeprecationWarning: The truth value of an empty array is ambiguous. Returning False, but in future this will result in an error. Use `array.size > 0` to check that an array is not empty.\n",
      "  if diff:\n",
      "C:\\Users\\dlfdus\\Anaconda3\\lib\\site-packages\\sklearn\\preprocessing\\label.py:151: DeprecationWarning: The truth value of an empty array is ambiguous. Returning False, but in future this will result in an error. Use `array.size > 0` to check that an array is not empty.\n",
      "  if diff:\n",
      "C:\\Users\\dlfdus\\Anaconda3\\lib\\site-packages\\sklearn\\preprocessing\\label.py:151: DeprecationWarning: The truth value of an empty array is ambiguous. Returning False, but in future this will result in an error. Use `array.size > 0` to check that an array is not empty.\n",
      "  if diff:\n",
      "C:\\Users\\dlfdus\\Anaconda3\\lib\\site-packages\\sklearn\\preprocessing\\label.py:151: DeprecationWarning: The truth value of an empty array is ambiguous. Returning False, but in future this will result in an error. Use `array.size > 0` to check that an array is not empty.\n",
      "  if diff:\n",
      "C:\\Users\\dlfdus\\Anaconda3\\lib\\site-packages\\sklearn\\preprocessing\\label.py:151: DeprecationWarning: The truth value of an empty array is ambiguous. Returning False, but in future this will result in an error. Use `array.size > 0` to check that an array is not empty.\n",
      "  if diff:\n",
      "C:\\Users\\dlfdus\\Anaconda3\\lib\\site-packages\\sklearn\\preprocessing\\label.py:151: DeprecationWarning: The truth value of an empty array is ambiguous. Returning False, but in future this will result in an error. Use `array.size > 0` to check that an array is not empty.\n",
      "  if diff:\n",
      "C:\\Users\\dlfdus\\Anaconda3\\lib\\site-packages\\sklearn\\preprocessing\\label.py:151: DeprecationWarning: The truth value of an empty array is ambiguous. Returning False, but in future this will result in an error. Use `array.size > 0` to check that an array is not empty.\n",
      "  if diff:\n",
      "C:\\Users\\dlfdus\\Anaconda3\\lib\\site-packages\\sklearn\\preprocessing\\label.py:151: DeprecationWarning: The truth value of an empty array is ambiguous. Returning False, but in future this will result in an error. Use `array.size > 0` to check that an array is not empty.\n",
      "  if diff:\n",
      "C:\\Users\\dlfdus\\Anaconda3\\lib\\site-packages\\sklearn\\preprocessing\\label.py:151: DeprecationWarning: The truth value of an empty array is ambiguous. Returning False, but in future this will result in an error. Use `array.size > 0` to check that an array is not empty.\n",
      "  if diff:\n",
      "C:\\Users\\dlfdus\\Anaconda3\\lib\\site-packages\\sklearn\\preprocessing\\label.py:151: DeprecationWarning: The truth value of an empty array is ambiguous. Returning False, but in future this will result in an error. Use `array.size > 0` to check that an array is not empty.\n",
      "  if diff:\n",
      "C:\\Users\\dlfdus\\Anaconda3\\lib\\site-packages\\sklearn\\preprocessing\\label.py:151: DeprecationWarning: The truth value of an empty array is ambiguous. Returning False, but in future this will result in an error. Use `array.size > 0` to check that an array is not empty.\n",
      "  if diff:\n"
     ]
    },
    {
     "name": "stdout",
     "output_type": "stream",
     "text": [
      "Training accuracy: 0.51714\n"
     ]
    },
    {
     "name": "stderr",
     "output_type": "stream",
     "text": [
      "C:\\Users\\dlfdus\\Anaconda3\\lib\\site-packages\\sklearn\\preprocessing\\label.py:151: DeprecationWarning: The truth value of an empty array is ambiguous. Returning False, but in future this will result in an error. Use `array.size > 0` to check that an array is not empty.\n",
      "  if diff:\n"
     ]
    },
    {
     "name": "stdout",
     "output_type": "stream",
     "text": [
      "Test accuracy: 0.49211\n",
      "Cross-validation mean score : 0.52368\n",
      "Cross-validation scores : [0.60526316 0.44736842 0.47368421 0.47368421 0.68421053 0.5\n",
      " 0.57894737 0.47368421 0.55263158 0.44736842]\n"
     ]
    },
    {
     "name": "stderr",
     "output_type": "stream",
     "text": [
      "C:\\Users\\dlfdus\\Anaconda3\\lib\\site-packages\\sklearn\\preprocessing\\label.py:151: DeprecationWarning: The truth value of an empty array is ambiguous. Returning False, but in future this will result in an error. Use `array.size > 0` to check that an array is not empty.\n",
      "  if diff:\n"
     ]
    },
    {
     "name": "stdout",
     "output_type": "stream",
     "text": [
      "             precision    recall  f1-score   support\n",
      "\n",
      "          0       0.58      0.66      0.62       151\n",
      "          1       0.08      0.33      0.13        24\n",
      "          2       0.73      0.39      0.50       205\n",
      "\n",
      "avg / total       0.63      0.49      0.53       380\n",
      " \n",
      "\n"
     ]
    },
    {
     "data": {
      "image/png": "[encoded data removed]",
      "text/plain": [
       "<Figure size 432x288 with 2 Axes>"
      ]
     },
     "metadata": {},
     "output_type": "display_data"
    }
   ],
   "source": [
    "print(model_name[5], '\\n')\n",
    "prediction(models[5], X_train, Y_train, X_test_EPL, Y_test_EPL)"
   ]
  },
  {
   "cell_type": "code",
   "execution_count": 47,
   "metadata": {
    "collapsed": false
   },
   "outputs": [
    {
     "name": "stdout",
     "output_type": "stream",
     "text": [
      "XGB Classifier \n",
      "\n"
     ]
    },
    {
     "name": "stderr",
     "output_type": "stream",
     "text": [
      "C:\\Users\\dlfdus\\Anaconda3\\lib\\site-packages\\sklearn\\preprocessing\\label.py:151: DeprecationWarning: The truth value of an empty array is ambiguous. Returning False, but in future this will result in an error. Use `array.size > 0` to check that an array is not empty.\n",
      "  if diff:\n",
      "C:\\Users\\dlfdus\\Anaconda3\\lib\\site-packages\\sklearn\\preprocessing\\label.py:151: DeprecationWarning: The truth value of an empty array is ambiguous. Returning False, but in future this will result in an error. Use `array.size > 0` to check that an array is not empty.\n",
      "  if diff:\n",
      "C:\\Users\\dlfdus\\Anaconda3\\lib\\site-packages\\sklearn\\preprocessing\\label.py:151: DeprecationWarning: The truth value of an empty array is ambiguous. Returning False, but in future this will result in an error. Use `array.size > 0` to check that an array is not empty.\n",
      "  if diff:\n",
      "C:\\Users\\dlfdus\\Anaconda3\\lib\\site-packages\\sklearn\\preprocessing\\label.py:151: DeprecationWarning: The truth value of an empty array is ambiguous. Returning False, but in future this will result in an error. Use `array.size > 0` to check that an array is not empty.\n",
      "  if diff:\n",
      "C:\\Users\\dlfdus\\Anaconda3\\lib\\site-packages\\sklearn\\preprocessing\\label.py:151: DeprecationWarning: The truth value of an empty array is ambiguous. Returning False, but in future this will result in an error. Use `array.size > 0` to check that an array is not empty.\n",
      "  if diff:\n",
      "C:\\Users\\dlfdus\\Anaconda3\\lib\\site-packages\\sklearn\\preprocessing\\label.py:151: DeprecationWarning: The truth value of an empty array is ambiguous. Returning False, but in future this will result in an error. Use `array.size > 0` to check that an array is not empty.\n",
      "  if diff:\n",
      "C:\\Users\\dlfdus\\Anaconda3\\lib\\site-packages\\sklearn\\preprocessing\\label.py:151: DeprecationWarning: The truth value of an empty array is ambiguous. Returning False, but in future this will result in an error. Use `array.size > 0` to check that an array is not empty.\n",
      "  if diff:\n",
      "C:\\Users\\dlfdus\\Anaconda3\\lib\\site-packages\\sklearn\\preprocessing\\label.py:151: DeprecationWarning: The truth value of an empty array is ambiguous. Returning False, but in future this will result in an error. Use `array.size > 0` to check that an array is not empty.\n",
      "  if diff:\n",
      "C:\\Users\\dlfdus\\Anaconda3\\lib\\site-packages\\sklearn\\preprocessing\\label.py:151: DeprecationWarning: The truth value of an empty array is ambiguous. Returning False, but in future this will result in an error. Use `array.size > 0` to check that an array is not empty.\n",
      "  if diff:\n",
      "C:\\Users\\dlfdus\\Anaconda3\\lib\\site-packages\\sklearn\\preprocessing\\label.py:151: DeprecationWarning: The truth value of an empty array is ambiguous. Returning False, but in future this will result in an error. Use `array.size > 0` to check that an array is not empty.\n",
      "  if diff:\n",
      "C:\\Users\\dlfdus\\Anaconda3\\lib\\site-packages\\sklearn\\preprocessing\\label.py:151: DeprecationWarning: The truth value of an empty array is ambiguous. Returning False, but in future this will result in an error. Use `array.size > 0` to check that an array is not empty.\n",
      "  if diff:\n"
     ]
    },
    {
     "name": "stdout",
     "output_type": "stream",
     "text": [
      "Training accuracy: 0.51714\n"
     ]
    },
    {
     "name": "stderr",
     "output_type": "stream",
     "text": [
      "C:\\Users\\dlfdus\\Anaconda3\\lib\\site-packages\\sklearn\\preprocessing\\label.py:151: DeprecationWarning: The truth value of an empty array is ambiguous. Returning False, but in future this will result in an error. Use `array.size > 0` to check that an array is not empty.\n",
      "  if diff:\n"
     ]
    },
    {
     "name": "stdout",
     "output_type": "stream",
     "text": [
      "Test accuracy: 0.60000\n",
      "Cross-validation mean score : 0.60789\n",
      "Cross-validation scores : [0.60526316 0.65789474 0.5        0.52631579 0.71052632 0.52631579\n",
      " 0.55263158 0.65789474 0.63157895 0.71052632]\n"
     ]
    },
    {
     "name": "stderr",
     "output_type": "stream",
     "text": [
      "C:\\Users\\dlfdus\\Anaconda3\\lib\\site-packages\\sklearn\\preprocessing\\label.py:151: DeprecationWarning: The truth value of an empty array is ambiguous. Returning False, but in future this will result in an error. Use `array.size > 0` to check that an array is not empty.\n",
      "  if diff:\n"
     ]
    },
    {
     "name": "stdout",
     "output_type": "stream",
     "text": [
      "             precision    recall  f1-score   support\n",
      "\n",
      "          0       0.72      0.69      0.71       170\n",
      "          1       0.07      0.35      0.12        17\n",
      "          2       0.78      0.54      0.64       193\n",
      "\n",
      "avg / total       0.72      0.60      0.65       380\n",
      " \n",
      "\n"
     ]
    },
    {
     "data": {
      "image/png": "[encoded data removed]",
      "text/plain": [
       "<Figure size 432x288 with 2 Axes>"
      ]
     },
     "metadata": {},
     "output_type": "display_data"
    }
   ],
   "source": [
    "print(model_name[5], '\\n')\n",
    "prediction(models[5], X_train, Y_train, X_test_SERIE, Y_test_SERIE)"
   ]
  },
  {
   "cell_type": "code",
   "execution_count": 48,
   "metadata": {
    "collapsed": false
   },
   "outputs": [
    {
     "name": "stdout",
     "output_type": "stream",
     "text": [
      "XGB Classifier \n",
      "\n"
     ]
    },
    {
     "name": "stderr",
     "output_type": "stream",
     "text": [
      "C:\\Users\\dlfdus\\Anaconda3\\lib\\site-packages\\sklearn\\preprocessing\\label.py:151: DeprecationWarning: The truth value of an empty array is ambiguous. Returning False, but in future this will result in an error. Use `array.size > 0` to check that an array is not empty.\n",
      "  if diff:\n",
      "C:\\Users\\dlfdus\\Anaconda3\\lib\\site-packages\\sklearn\\preprocessing\\label.py:151: DeprecationWarning: The truth value of an empty array is ambiguous. Returning False, but in future this will result in an error. Use `array.size > 0` to check that an array is not empty.\n",
      "  if diff:\n",
      "C:\\Users\\dlfdus\\Anaconda3\\lib\\site-packages\\sklearn\\preprocessing\\label.py:151: DeprecationWarning: The truth value of an empty array is ambiguous. Returning False, but in future this will result in an error. Use `array.size > 0` to check that an array is not empty.\n",
      "  if diff:\n",
      "C:\\Users\\dlfdus\\Anaconda3\\lib\\site-packages\\sklearn\\preprocessing\\label.py:151: DeprecationWarning: The truth value of an empty array is ambiguous. Returning False, but in future this will result in an error. Use `array.size > 0` to check that an array is not empty.\n",
      "  if diff:\n",
      "C:\\Users\\dlfdus\\Anaconda3\\lib\\site-packages\\sklearn\\preprocessing\\label.py:151: DeprecationWarning: The truth value of an empty array is ambiguous. Returning False, but in future this will result in an error. Use `array.size > 0` to check that an array is not empty.\n",
      "  if diff:\n",
      "C:\\Users\\dlfdus\\Anaconda3\\lib\\site-packages\\sklearn\\preprocessing\\label.py:151: DeprecationWarning: The truth value of an empty array is ambiguous. Returning False, but in future this will result in an error. Use `array.size > 0` to check that an array is not empty.\n",
      "  if diff:\n",
      "C:\\Users\\dlfdus\\Anaconda3\\lib\\site-packages\\sklearn\\preprocessing\\label.py:151: DeprecationWarning: The truth value of an empty array is ambiguous. Returning False, but in future this will result in an error. Use `array.size > 0` to check that an array is not empty.\n",
      "  if diff:\n",
      "C:\\Users\\dlfdus\\Anaconda3\\lib\\site-packages\\sklearn\\preprocessing\\label.py:151: DeprecationWarning: The truth value of an empty array is ambiguous. Returning False, but in future this will result in an error. Use `array.size > 0` to check that an array is not empty.\n",
      "  if diff:\n",
      "C:\\Users\\dlfdus\\Anaconda3\\lib\\site-packages\\sklearn\\preprocessing\\label.py:151: DeprecationWarning: The truth value of an empty array is ambiguous. Returning False, but in future this will result in an error. Use `array.size > 0` to check that an array is not empty.\n",
      "  if diff:\n",
      "C:\\Users\\dlfdus\\Anaconda3\\lib\\site-packages\\sklearn\\preprocessing\\label.py:151: DeprecationWarning: The truth value of an empty array is ambiguous. Returning False, but in future this will result in an error. Use `array.size > 0` to check that an array is not empty.\n",
      "  if diff:\n",
      "C:\\Users\\dlfdus\\Anaconda3\\lib\\site-packages\\sklearn\\preprocessing\\label.py:151: DeprecationWarning: The truth value of an empty array is ambiguous. Returning False, but in future this will result in an error. Use `array.size > 0` to check that an array is not empty.\n",
      "  if diff:\n"
     ]
    },
    {
     "name": "stdout",
     "output_type": "stream",
     "text": [
      "Training accuracy: 0.51714\n"
     ]
    },
    {
     "name": "stderr",
     "output_type": "stream",
     "text": [
      "C:\\Users\\dlfdus\\Anaconda3\\lib\\site-packages\\sklearn\\preprocessing\\label.py:151: DeprecationWarning: The truth value of an empty array is ambiguous. Returning False, but in future this will result in an error. Use `array.size > 0` to check that an array is not empty.\n",
      "  if diff:\n"
     ]
    },
    {
     "name": "stdout",
     "output_type": "stream",
     "text": [
      "Test accuracy: 0.45098\n",
      "Cross-validation mean score : 0.45473\n",
      "Cross-validation scores : [0.58064516 0.35483871 0.4516129  0.41935484 0.32258065 0.4516129\n",
      " 0.46666667 0.6        0.43333333 0.46666667]\n"
     ]
    },
    {
     "name": "stderr",
     "output_type": "stream",
     "text": [
      "C:\\Users\\dlfdus\\Anaconda3\\lib\\site-packages\\sklearn\\preprocessing\\label.py:151: DeprecationWarning: The truth value of an empty array is ambiguous. Returning False, but in future this will result in an error. Use `array.size > 0` to check that an array is not empty.\n",
      "  if diff:\n"
     ]
    },
    {
     "name": "stdout",
     "output_type": "stream",
     "text": [
      "             precision    recall  f1-score   support\n",
      "\n",
      "          0       0.54      0.60      0.57       126\n",
      "          1       0.06      0.16      0.09        31\n",
      "          2       0.69      0.39      0.50       149\n",
      "\n",
      "avg / total       0.56      0.45      0.48       306\n",
      " \n",
      "\n"
     ]
    },
    {
     "data": {
      "image/png": "[encoded data removed]",
      "text/plain": [
       "<Figure size 432x288 with 2 Axes>"
      ]
     },
     "metadata": {},
     "output_type": "display_data"
    }
   ],
   "source": [
    "print(model_name[5], '\\n')\n",
    "prediction(models[5], X_train, Y_train, X_test_BUNDES, Y_test_BUNDES)"
   ]
  },
  {
   "cell_type": "code",
   "execution_count": 115,
   "metadata": {
    "collapsed": true
   },
   "outputs": [],
   "source": [
    "def getaccu(row):\n",
    "    if(row['Result'] == row['Predict']):\n",
    "        return 'O'\n",
    "    else:\n",
    "        return 'X'"
   ]
  },
  {
   "cell_type": "code",
   "execution_count": 116,
   "metadata": {
    "collapsed": false
   },
   "outputs": [
    {
     "name": "stderr",
     "output_type": "stream",
     "text": [
      "C:\\Users\\dlfdus\\Anaconda3\\lib\\site-packages\\sklearn\\preprocessing\\label.py:151: DeprecationWarning: The truth value of an empty array is ambiguous. Returning False, but in future this will result in an error. Use `array.size > 0` to check that an array is not empty.\n",
      "  if diff:\n"
     ]
    },
    {
     "data": {
      "text/html": [
       "<div>\n",
       "<style scoped>\n",
       "    .dataframe tbody tr th:only-of-type {\n",
       "        vertical-align: middle;\n",
       "    }\n",
       "\n",
       "    .dataframe tbody tr th {\n",
       "        vertical-align: top;\n",
       "    }\n",
       "\n",
       "    .dataframe thead th {\n",
       "        text-align: right;\n",
       "    }\n",
       "</style>\n",
       "<table border=\"1\" class=\"dataframe\">\n",
       "  <thead>\n",
       "    <tr style=\"text-align: right;\">\n",
       "      <th></th>\n",
       "      <th>League</th>\n",
       "      <th>Season</th>\n",
       "      <th>Match_Date</th>\n",
       "      <th>Home_Name</th>\n",
       "      <th>Away_Name</th>\n",
       "      <th>Result</th>\n",
       "      <th>Predict</th>\n",
       "      <th>Match?</th>\n",
       "    </tr>\n",
       "  </thead>\n",
       "  <tbody>\n",
       "    <tr>\n",
       "      <th>1135</th>\n",
       "      <td>SERIE</td>\n",
       "      <td>1718</td>\n",
       "      <td>180520</td>\n",
       "      <td>Udinese</td>\n",
       "      <td>Bologna</td>\n",
       "      <td>0</td>\n",
       "      <td>0</td>\n",
       "      <td>O</td>\n",
       "    </tr>\n",
       "    <tr>\n",
       "      <th>1136</th>\n",
       "      <td>SERIE</td>\n",
       "      <td>1718</td>\n",
       "      <td>180520</td>\n",
       "      <td>Napoli</td>\n",
       "      <td>Crotone</td>\n",
       "      <td>0</td>\n",
       "      <td>0</td>\n",
       "      <td>O</td>\n",
       "    </tr>\n",
       "    <tr>\n",
       "      <th>1137</th>\n",
       "      <td>SERIE</td>\n",
       "      <td>1718</td>\n",
       "      <td>180520</td>\n",
       "      <td>AC Milan</td>\n",
       "      <td>Fiorentina</td>\n",
       "      <td>0</td>\n",
       "      <td>0</td>\n",
       "      <td>O</td>\n",
       "    </tr>\n",
       "    <tr>\n",
       "      <th>1138</th>\n",
       "      <td>SERIE</td>\n",
       "      <td>1718</td>\n",
       "      <td>180520</td>\n",
       "      <td>Lazio</td>\n",
       "      <td>Inter</td>\n",
       "      <td>2</td>\n",
       "      <td>2</td>\n",
       "      <td>O</td>\n",
       "    </tr>\n",
       "    <tr>\n",
       "      <th>1139</th>\n",
       "      <td>SERIE</td>\n",
       "      <td>1718</td>\n",
       "      <td>180520</td>\n",
       "      <td>Sassuolo</td>\n",
       "      <td>Roma</td>\n",
       "      <td>2</td>\n",
       "      <td>2</td>\n",
       "      <td>O</td>\n",
       "    </tr>\n",
       "  </tbody>\n",
       "</table>\n",
       "</div>"
      ],
      "text/plain": [
       "     League  Season  Match_Date Home_Name   Away_Name  Result  Predict Match?\n",
       "1135  SERIE    1718      180520   Udinese     Bologna       0        0      O\n",
       "1136  SERIE    1718      180520    Napoli     Crotone       0        0      O\n",
       "1137  SERIE    1718      180520  AC Milan  Fiorentina       0        0      O\n",
       "1138  SERIE    1718      180520     Lazio       Inter       2        2      O\n",
       "1139  SERIE    1718      180520  Sassuolo        Roma       2        2      O"
      ]
     },
     "execution_count": 116,
     "metadata": {},
     "output_type": "execute_result"
    }
   ],
   "source": [
    "predict_proba = xgb.predict_proba(X_test)\n",
    "total_proba = xgb.predict(X_test)\n",
    "\n",
    "predictiondata = data[['League', 'Season', 'Match_Date', 'Home_Name', 'Away_Name', 'Result']][data['Season'] == 1718].reset_index(drop=True)\n",
    "predictiondata['Predict'] = total_proba\n",
    "Match_ = predictiondata.apply(lambda row: getaccu(row), axis=1)\n",
    "predictiondata['Match?'] = Match_\n",
    "predictiondata.tail()"
   ]
  },
  {
   "cell_type": "code",
   "execution_count": 117,
   "metadata": {
    "collapsed": false
   },
   "outputs": [],
   "source": [
    "predictiondata.to_csv('data/prediction.csv')"
   ]
  },
  {
   "cell_type": "code",
   "execution_count": 118,
   "metadata": {
    "collapsed": false
   },
   "outputs": [
    {
     "name": "stdout",
     "output_type": "stream",
     "text": [
      "Accuracy : 0.5228070175438596\n"
     ]
    }
   ],
   "source": [
    "OX = Counter(predictiondata['Match?'])['O']\n",
    "print('Accuracy : {}'.format(OX/predictiondata.shape[0]))"
   ]
  }
 ],
 "metadata": {
  "anaconda-cloud": {},
  "kernelspec": {
   "display_name": "Python [conda env:Anaconda3]",
   "language": "python",
   "name": "conda-env-Anaconda3-py"
  },
  "language_info": {
   "codemirror_mode": {
    "name": "ipython",
    "version": 3
   },
   "file_extension": ".py",
   "mimetype": "text/x-python",
   "name": "python",
   "nbconvert_exporter": "python",
   "pygments_lexer": "ipython3",
   "version": "3.5.5"
  }
 },
 "nbformat": 4,
 "nbformat_minor": 1
}
